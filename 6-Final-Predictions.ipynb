{
 "cells": [
  {
   "cell_type": "markdown",
   "id": "b6854e44",
   "metadata": {
    "papermill": {
     "duration": 0.05094,
     "end_time": "2023-03-01T22:21:47.972695",
     "exception": false,
     "start_time": "2023-03-01T22:21:47.921755",
     "status": "completed"
    },
    "tags": []
   },
   "source": [
    "# 6. Final Predictions <a class=\"anchor\"  id=\"chapter6\"></a>"
   ]
  },
  {
   "cell_type": "markdown",
   "id": "1bfac117",
   "metadata": {
    "papermill": {
     "duration": 0.039936,
     "end_time": "2023-03-01T22:21:48.060090",
     "exception": false,
     "start_time": "2023-03-01T22:21:48.020154",
     "status": "completed"
    },
    "tags": []
   },
   "source": [
    "The Gradient Boosting Classifier model with tuned hyperparameters appears to have the best mean cross-validation score, although the tuned SVC model is behind by less than a percentage point. I tested all four models - Gradient Boosting with default parameters, Gradient Boosting with tuned hyperparameters, SVC with default parameters, and SVC with tuned hyperparameters - on the public leaderboard and found that SVC with default parameters actually resulted in the best score for the final prediction test set, at 81.33%. \n",
    "\n",
    "There are a few reasons why the SVC model with default parameters may have turned out better than the others. The first and most obvious is that the models are overfitting the training data. This has been apparent throughout the trial and error on this dataset, as I have consistently found cross-validation scores and test set accuracy to be ~5% higher than the public leaderboard score. It could also be the case that the prediction test set is fundamentally different from the training set in terms of its features, leading to a mismatch between the training accuracy and final prediction accuracy. Finally, machine learning models are inherently random, and the performance of a model can vary from one test set to another. It could be the case that SVC does have a worse CV score than Gradient Boosting, but it just happened to perform better on the one test set that is scored on the public leaderboard. \n",
    "\n",
    "No matter what the reason, I was able to score 81.33%, which is top 2% on the leaderboard as of the time of my submission. Not too shabby!\n",
    "\n",
    "Happy Kaggling :) "
   ]
  },
  {
   "cell_type": "code",
   "execution_count": 36,
   "id": "7b36a311",
   "metadata": {
    "execution": {
     "iopub.execute_input": "2023-03-01T22:21:48.143254Z",
     "iopub.status.busy": "2023-03-01T22:21:48.142674Z",
     "iopub.status.idle": "2023-03-01T22:21:48.170513Z",
     "shell.execute_reply": "2023-03-01T22:21:48.169268Z"
    },
    "papermill": {
     "duration": 0.073406,
     "end_time": "2023-03-01T22:21:48.173602",
     "exception": false,
     "start_time": "2023-03-01T22:21:48.100196",
     "status": "completed"
    },
    "tags": []
   },
   "outputs": [],
   "source": [
    "# Preparing dataset for final predictions\n",
    "X_train = train_original[[\n",
    "       'SibSp', 'Parch',  'In_WCG',\n",
    "       'WCG_not_survived', 'WCG_survived', \n",
    "       'Party_size', 'Is_alone', 'Fare_per_passenger', 'Title_Miss.',\n",
    "       'Title_Mr.', 'Title_Mrs.', 'Title_Uncommon', 'Sex_male', 'Pclass_2',\n",
    "       'Pclass_3', 'Embarked_Q', 'Embarked_S', 'Age_cat']]\n",
    "y_train = train_original[['Survived']].values.ravel()\n",
    "X_test = test_original[['SibSp', 'Parch',  'In_WCG',\n",
    "       'WCG_not_survived', 'WCG_survived', \n",
    "       'Party_size', 'Is_alone', 'Fare_per_passenger', 'Title_Miss.',\n",
    "       'Title_Mr.', 'Title_Mrs.', 'Title_Uncommon', 'Sex_male', 'Pclass_2',\n",
    "       'Pclass_3', 'Embarked_Q', 'Embarked_S', 'Age_cat']]\n",
    "\n",
    "# Scaling the Fare_per_passenger column to create scaled training and test sets\n",
    "scaler = StandardScaler()\n",
    "\n",
    "X_train_num = X_train.loc[:, ['Fare_per_passenger']]\n",
    "X_test_num = X_test.loc[:, ['Fare_per_passenger']]\n",
    "\n",
    "X_train_cat = X_train.loc[:, ['SibSp', 'Parch', 'In_WCG',\n",
    "       'WCG_not_survived', 'WCG_survived', \n",
    "       'Party_size', 'Is_alone',  'Title_Miss.',\n",
    "       'Title_Mr.', 'Title_Mrs.', 'Title_Uncommon', 'Sex_male', 'Pclass_2',\n",
    "       'Pclass_3', 'Embarked_Q', 'Embarked_S', 'Age_cat']]\n",
    "X_test_cat = X_test.loc[:, ['SibSp', 'Parch', 'In_WCG',\n",
    "       'WCG_not_survived', 'WCG_survived', \n",
    "       'Party_size', 'Is_alone', 'Title_Miss.',\n",
    "       'Title_Mr.', 'Title_Mrs.', 'Title_Uncommon', 'Sex_male', 'Pclass_2',\n",
    "       'Pclass_3', 'Embarked_Q', 'Embarked_S', 'Age_cat']]\n",
    "\n",
    "X_train_num_scaled = scaler.fit_transform(X_train_num)\n",
    "X_test_num_scaled = scaler.transform(X_test_num)\n",
    "\n",
    "# Concatenate scaled numerical and categorical columns\n",
    "X_train_scaled = np.concatenate([X_train_num_scaled, X_train_cat], axis=1)\n",
    "X_test_scaled = np.concatenate([X_test_num_scaled, X_test_cat], axis=1)"
   ]
  },
  {
   "cell_type": "code",
   "execution_count": 37,
   "id": "80340c1e",
   "metadata": {
    "execution": {
     "iopub.execute_input": "2023-03-01T22:21:48.258053Z",
     "iopub.status.busy": "2023-03-01T22:21:48.257557Z",
     "iopub.status.idle": "2023-03-01T22:21:48.310947Z",
     "shell.execute_reply": "2023-03-01T22:21:48.309534Z"
    },
    "papermill": {
     "duration": 0.098918,
     "end_time": "2023-03-01T22:21:48.313892",
     "exception": false,
     "start_time": "2023-03-01T22:21:48.214974",
     "status": "completed"
    },
    "tags": []
   },
   "outputs": [
    {
     "data": {
      "text/plain": [
       "0    274\n",
       "1    144\n",
       "Name: Survived, dtype: int64"
      ]
     },
     "metadata": {},
     "output_type": "display_data"
    },
    {
     "data": {
      "text/plain": [
       "PassengerId    int64\n",
       "Survived       int64\n",
       "dtype: object"
      ]
     },
     "metadata": {},
     "output_type": "display_data"
    }
   ],
   "source": [
    "best_model = SVC(random_state=41)\n",
    "best_model.fit(X_train_scaled, y_train)\n",
    "final_prediction = best_model.predict(X_test_scaled)\n",
    "\n",
    "submission = pd.DataFrame({\n",
    "        \"PassengerId\": test_original[\"PassengerId\"],\n",
    "        \"Survived\": final_prediction\n",
    "    })\n",
    "display(submission['Survived'].value_counts())\n",
    "display(submission.dtypes)"
   ]
  },
  {
   "cell_type": "code",
   "execution_count": 38,
   "id": "70018ae1",
   "metadata": {
    "execution": {
     "iopub.execute_input": "2023-03-01T22:21:48.406052Z",
     "iopub.status.busy": "2023-03-01T22:21:48.405565Z",
     "iopub.status.idle": "2023-03-01T22:21:48.419710Z",
     "shell.execute_reply": "2023-03-01T22:21:48.418323Z"
    },
    "papermill": {
     "duration": 0.063536,
     "end_time": "2023-03-01T22:21:48.422803",
     "exception": false,
     "start_time": "2023-03-01T22:21:48.359267",
     "status": "completed"
    },
    "tags": []
   },
   "outputs": [],
   "source": [
    "submission['Survived'] = submission['Survived'].astype(int)\n",
    "submission.to_csv('submission.csv', index=False)"
   ]
  }
 ],
 "metadata": {
  "kernelspec": {
   "display_name": "Python 3",
   "language": "python",
   "name": "python3"
  },
  "language_info": {
   "codemirror_mode": {
    "name": "ipython",
    "version": 3
   },
   "file_extension": ".py",
   "mimetype": "text/x-python",
   "name": "python",
   "nbconvert_exporter": "python",
   "pygments_lexer": "ipython3",
   "version": "3.11.1 (v3.11.1:a7a450f84a, Dec  6 2022, 15:24:06) [Clang 13.0.0 (clang-1300.0.29.30)]"
  },
  "papermill": {
   "default_parameters": {},
   "duration": 110.506977,
   "end_time": "2023-03-01T22:21:49.493147",
   "environment_variables": {},
   "exception": null,
   "input_path": "__notebook__.ipynb",
   "output_path": "__notebook__.ipynb",
   "parameters": {},
   "start_time": "2023-03-01T22:19:58.986170",
   "version": "2.3.4"
  },
  "vscode": {
   "interpreter": {
    "hash": "aee8b7b246df8f9039afb4144a1f6fd8d2ca17a180786b69acc140d282b71a49"
   }
  }
 },
 "nbformat": 4,
 "nbformat_minor": 5
}
